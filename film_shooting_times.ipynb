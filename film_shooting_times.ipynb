{
 "cells": [
  {
   "cell_type": "code",
   "execution_count": 38,
   "metadata": {},
   "outputs": [
    {
     "name": "stdout",
     "output_type": "stream",
     "text": [
      "The autotime extension is already loaded. To reload it, use:\n",
      "  %reload_ext autotime\n",
      "time: 8.12 ms\n"
     ]
    }
   ],
   "source": [
    "import numpy as np\n",
    "import pandas as pd\n",
    "\n",
    "from datetime import datetime as dt\n",
    "\n",
    "import seaborn as sns\n",
    "\n",
    "import matplotlib.pyplot as plt\n",
    "import seaborn as sns\n",
    "plt.style.use('ggplot')\n",
    "\n",
    "%load_ext autotime"
   ]
  },
  {
   "cell_type": "code",
   "execution_count": 7,
   "metadata": {},
   "outputs": [
    {
     "name": "stdout",
     "output_type": "stream",
     "text": [
      "time: 13.7 s\n"
     ]
    }
   ],
   "source": [
    "data = pd.read_csv('./Film_Permits.csv', parse_dates=['StartDateTime', 'EndDateTime'])"
   ]
  },
  {
   "cell_type": "code",
   "execution_count": 53,
   "metadata": {
    "collapsed": true
   },
   "outputs": [
    {
     "data": {
      "text/html": [
       "<div>\n",
       "<style scoped>\n",
       "    .dataframe tbody tr th:only-of-type {\n",
       "        vertical-align: middle;\n",
       "    }\n",
       "\n",
       "    .dataframe tbody tr th {\n",
       "        vertical-align: top;\n",
       "    }\n",
       "\n",
       "    .dataframe thead th {\n",
       "        text-align: right;\n",
       "    }\n",
       "</style>\n",
       "<table border=\"1\" class=\"dataframe\">\n",
       "  <thead>\n",
       "    <tr style=\"text-align: right;\">\n",
       "      <th></th>\n",
       "      <th>EventID</th>\n",
       "      <th>EventType</th>\n",
       "      <th>StartDateTime</th>\n",
       "      <th>EndDateTime</th>\n",
       "      <th>EnteredOn</th>\n",
       "      <th>EventAgency</th>\n",
       "      <th>ParkingHeld</th>\n",
       "      <th>Borough</th>\n",
       "      <th>CommunityBoard(s)</th>\n",
       "      <th>PolicePrecinct(s)</th>\n",
       "      <th>Category</th>\n",
       "      <th>SubCategoryName</th>\n",
       "      <th>Country</th>\n",
       "      <th>ZipCode(s)</th>\n",
       "      <th>StartEnd</th>\n",
       "      <th>TimeList</th>\n",
       "    </tr>\n",
       "  </thead>\n",
       "  <tbody>\n",
       "    <tr>\n",
       "      <th>0</th>\n",
       "      <td>492308</td>\n",
       "      <td>Shooting Permit</td>\n",
       "      <td>2019-06-17 06:00:00</td>\n",
       "      <td>2019-06-17 22:00:00</td>\n",
       "      <td>06/14/2019 05:40:57 PM</td>\n",
       "      <td>Mayor's Office of Film, Theatre &amp; Broadcasting</td>\n",
       "      <td>MADISON AVENUE between EAST   82 STREET and EA...</td>\n",
       "      <td>Manhattan</td>\n",
       "      <td>64, 8</td>\n",
       "      <td>19, 22</td>\n",
       "      <td>Film</td>\n",
       "      <td>Feature</td>\n",
       "      <td>United States of America</td>\n",
       "      <td>10028, 10075</td>\n",
       "      <td>[2019-06-17 06:00:00, 2019-06-17 22:00:00]</td>\n",
       "      <td>DatetimeIndex(['2019-06-17 06:00:00', '2019-06...</td>\n",
       "    </tr>\n",
       "    <tr>\n",
       "      <th>1</th>\n",
       "      <td>492307</td>\n",
       "      <td>Shooting Permit</td>\n",
       "      <td>2019-06-16 06:00:00</td>\n",
       "      <td>2019-06-16 22:00:00</td>\n",
       "      <td>06/14/2019 05:40:06 PM</td>\n",
       "      <td>Mayor's Office of Film, Theatre &amp; Broadcasting</td>\n",
       "      <td>MADISON AVENUE between EAST   82 STREET and EA...</td>\n",
       "      <td>Manhattan</td>\n",
       "      <td>64, 8</td>\n",
       "      <td>19, 22</td>\n",
       "      <td>Film</td>\n",
       "      <td>Feature</td>\n",
       "      <td>United States of America</td>\n",
       "      <td>10028, 10075</td>\n",
       "      <td>[2019-06-16 06:00:00, 2019-06-16 22:00:00]</td>\n",
       "      <td>DatetimeIndex(['2019-06-16 06:00:00', '2019-06...</td>\n",
       "    </tr>\n",
       "    <tr>\n",
       "      <th>2</th>\n",
       "      <td>492280</td>\n",
       "      <td>Shooting Permit</td>\n",
       "      <td>2019-06-17 10:00:00</td>\n",
       "      <td>2019-06-17 23:59:00</td>\n",
       "      <td>06/14/2019 04:33:55 PM</td>\n",
       "      <td>Mayor's Office of Film, Theatre &amp; Broadcasting</td>\n",
       "      <td>WEST   40 STREET between 5 AVENUE and 6 AVENUE...</td>\n",
       "      <td>Manhattan</td>\n",
       "      <td>5</td>\n",
       "      <td>14</td>\n",
       "      <td>Film</td>\n",
       "      <td>Feature</td>\n",
       "      <td>United States of America</td>\n",
       "      <td>10018</td>\n",
       "      <td>[2019-06-17 10:00:00, 2019-06-17 23:59:00]</td>\n",
       "      <td>DatetimeIndex(['2019-06-17 10:00:00', '2019-06...</td>\n",
       "    </tr>\n",
       "    <tr>\n",
       "      <th>3</th>\n",
       "      <td>492226</td>\n",
       "      <td>Shooting Permit</td>\n",
       "      <td>2019-06-17 06:30:00</td>\n",
       "      <td>2019-06-17 21:30:00</td>\n",
       "      <td>06/14/2019 01:52:20 PM</td>\n",
       "      <td>Mayor's Office of Film, Theatre &amp; Broadcasting</td>\n",
       "      <td>FLUSHING AVENUE between CYPRESS AVENUE and SCO...</td>\n",
       "      <td>Brooklyn</td>\n",
       "      <td>1, 4</td>\n",
       "      <td>83, 90</td>\n",
       "      <td>Television</td>\n",
       "      <td>Episodic series</td>\n",
       "      <td>United States of America</td>\n",
       "      <td>11237</td>\n",
       "      <td>[2019-06-17 06:30:00, 2019-06-17 21:30:00]</td>\n",
       "      <td>DatetimeIndex(['2019-06-17 06:30:00', '2019-06...</td>\n",
       "    </tr>\n",
       "    <tr>\n",
       "      <th>4</th>\n",
       "      <td>492174</td>\n",
       "      <td>Shooting Permit</td>\n",
       "      <td>2019-06-17 07:00:00</td>\n",
       "      <td>2019-06-17 23:00:00</td>\n",
       "      <td>06/14/2019 10:54:36 AM</td>\n",
       "      <td>Mayor's Office of Film, Theatre &amp; Broadcasting</td>\n",
       "      <td>EAST  140 STREET between LOCUST AVENUE and WAL...</td>\n",
       "      <td>Bronx</td>\n",
       "      <td>1</td>\n",
       "      <td>40</td>\n",
       "      <td>Television</td>\n",
       "      <td>Episodic series</td>\n",
       "      <td>United States of America</td>\n",
       "      <td>10454</td>\n",
       "      <td>[2019-06-17 07:00:00, 2019-06-17 23:00:00]</td>\n",
       "      <td>DatetimeIndex(['2019-06-17 07:00:00', '2019-06...</td>\n",
       "    </tr>\n",
       "  </tbody>\n",
       "</table>\n",
       "</div>"
      ],
      "text/plain": [
       "   EventID        EventType       StartDateTime         EndDateTime  \\\n",
       "0   492308  Shooting Permit 2019-06-17 06:00:00 2019-06-17 22:00:00   \n",
       "1   492307  Shooting Permit 2019-06-16 06:00:00 2019-06-16 22:00:00   \n",
       "2   492280  Shooting Permit 2019-06-17 10:00:00 2019-06-17 23:59:00   \n",
       "3   492226  Shooting Permit 2019-06-17 06:30:00 2019-06-17 21:30:00   \n",
       "4   492174  Shooting Permit 2019-06-17 07:00:00 2019-06-17 23:00:00   \n",
       "\n",
       "                EnteredOn                                     EventAgency  \\\n",
       "0  06/14/2019 05:40:57 PM  Mayor's Office of Film, Theatre & Broadcasting   \n",
       "1  06/14/2019 05:40:06 PM  Mayor's Office of Film, Theatre & Broadcasting   \n",
       "2  06/14/2019 04:33:55 PM  Mayor's Office of Film, Theatre & Broadcasting   \n",
       "3  06/14/2019 01:52:20 PM  Mayor's Office of Film, Theatre & Broadcasting   \n",
       "4  06/14/2019 10:54:36 AM  Mayor's Office of Film, Theatre & Broadcasting   \n",
       "\n",
       "                                         ParkingHeld    Borough  \\\n",
       "0  MADISON AVENUE between EAST   82 STREET and EA...  Manhattan   \n",
       "1  MADISON AVENUE between EAST   82 STREET and EA...  Manhattan   \n",
       "2  WEST   40 STREET between 5 AVENUE and 6 AVENUE...  Manhattan   \n",
       "3  FLUSHING AVENUE between CYPRESS AVENUE and SCO...   Brooklyn   \n",
       "4  EAST  140 STREET between LOCUST AVENUE and WAL...      Bronx   \n",
       "\n",
       "  CommunityBoard(s) PolicePrecinct(s)    Category  SubCategoryName  \\\n",
       "0             64, 8            19, 22        Film          Feature   \n",
       "1             64, 8            19, 22        Film          Feature   \n",
       "2                 5                14        Film          Feature   \n",
       "3              1, 4            83, 90  Television  Episodic series   \n",
       "4                 1                40  Television  Episodic series   \n",
       "\n",
       "                    Country    ZipCode(s)  \\\n",
       "0  United States of America  10028, 10075   \n",
       "1  United States of America  10028, 10075   \n",
       "2  United States of America         10018   \n",
       "3  United States of America         11237   \n",
       "4  United States of America         10454   \n",
       "\n",
       "                                     StartEnd  \\\n",
       "0  [2019-06-17 06:00:00, 2019-06-17 22:00:00]   \n",
       "1  [2019-06-16 06:00:00, 2019-06-16 22:00:00]   \n",
       "2  [2019-06-17 10:00:00, 2019-06-17 23:59:00]   \n",
       "3  [2019-06-17 06:30:00, 2019-06-17 21:30:00]   \n",
       "4  [2019-06-17 07:00:00, 2019-06-17 23:00:00]   \n",
       "\n",
       "                                            TimeList  \n",
       "0  DatetimeIndex(['2019-06-17 06:00:00', '2019-06...  \n",
       "1  DatetimeIndex(['2019-06-16 06:00:00', '2019-06...  \n",
       "2  DatetimeIndex(['2019-06-17 10:00:00', '2019-06...  \n",
       "3  DatetimeIndex(['2019-06-17 06:30:00', '2019-06...  \n",
       "4  DatetimeIndex(['2019-06-17 07:00:00', '2019-06...  "
      ]
     },
     "execution_count": 53,
     "metadata": {},
     "output_type": "execute_result"
    },
    {
     "name": "stdout",
     "output_type": "stream",
     "text": [
      "time: 64.6 ms\n"
     ]
    }
   ],
   "source": [
    "data.head()"
   ]
  },
  {
   "cell_type": "code",
   "execution_count": 16,
   "metadata": {},
   "outputs": [
    {
     "name": "stdout",
     "output_type": "stream",
     "text": [
      "time: 2.28 ms\n"
     ]
    }
   ],
   "source": [
    "# Make histogram by hour of day.\n",
    "# Break each time range into hour chunks\n",
    "\n",
    "def range_to_list(a, b):\n",
    "    return pd.date_range(a, b, freq = 'H')[:-1]\n",
    "    \n",
    "# range_to_list(data.iloc[10]['StartDateTime'], data.iloc[10]['EndDateTime'])[:-1]"
   ]
  },
  {
   "cell_type": "code",
   "execution_count": 17,
   "metadata": {},
   "outputs": [
    {
     "name": "stdout",
     "output_type": "stream",
     "text": [
      "time: 13.4 s\n"
     ]
    }
   ],
   "source": [
    "data['StartEnd'] = [[i, j] for i, j in zip( data['StartDateTime'], data['EndDateTime'])]\n",
    "data['TimeList'] = data['StartEnd'].apply(lambda x: range_to_list(x[0], x[1]))"
   ]
  },
  {
   "cell_type": "code",
   "execution_count": 21,
   "metadata": {},
   "outputs": [
    {
     "name": "stdout",
     "output_type": "stream",
     "text": [
      "time: 2.26 s\n"
     ]
    }
   ],
   "source": [
    "time_list = [j for i in data['TimeList'] for j in i]\n",
    "time_list_hour = [i.hour for i in time_list]\n",
    "time_list_day = [i.day for i in time_list]\n",
    "time_list_month = [i.month for i in time_list]"
   ]
  },
  {
   "cell_type": "code",
   "execution_count": 39,
   "metadata": {},
   "outputs": [
    {
     "name": "stderr",
     "output_type": "stream",
     "text": [
      "/usr/local/lib/python3.6/dist-packages/matplotlib/axes/_axes.py:6462: UserWarning: The 'normed' kwarg is deprecated, and has been replaced by the 'density' kwarg.\n",
      "  warnings.warn(\"The 'normed' kwarg is deprecated, and has been \"\n"
     ]
    },
    {
     "data": {
      "text/plain": [
       "<matplotlib.axes._subplots.AxesSubplot at 0x7ff6f58cee48>"
      ]
     },
     "execution_count": 39,
     "metadata": {},
     "output_type": "execute_result"
    },
    {
     "data": {
      "image/png": "[encoded data removed]",
      "text/plain": [
       "<Figure size 432x288 with 1 Axes>"
      ]
     },
     "metadata": {},
     "output_type": "display_data"
    },
    {
     "name": "stdout",
     "output_type": "stream",
     "text": [
      "time: 4.82 s\n"
     ]
    }
   ],
   "source": [
    "# plt.hist(time_list_hour)\n",
    "sns.distplot(time_list_hour)"
   ]
  },
  {
   "cell_type": "code",
   "execution_count": 50,
   "metadata": {
    "scrolled": false
   },
   "outputs": [
    {
     "name": "stderr",
     "output_type": "stream",
     "text": [
      "/usr/local/lib/python3.6/dist-packages/matplotlib/axes/_axes.py:6462: UserWarning: The 'normed' kwarg is deprecated, and has been replaced by the 'density' kwarg.\n",
      "  warnings.warn(\"The 'normed' kwarg is deprecated, and has been \"\n"
     ]
    },
    {
     "data": {
      "text/plain": [
       "<matplotlib.axes._subplots.AxesSubplot at 0x7ff6f5585860>"
      ]
     },
     "execution_count": 50,
     "metadata": {},
     "output_type": "execute_result"
    },
    {
     "data": {
      "image/png": "[encoded data removed]",
      "text/plain": [
       "<Figure size 432x288 with 1 Axes>"
      ]
     },
     "metadata": {},
     "output_type": "display_data"
    },
    {
     "name": "stdout",
     "output_type": "stream",
     "text": [
      "time: 3.99 s\n"
     ]
    }
   ],
   "source": [
    "sns.distplot(time_list_day)"
   ]
  },
  {
   "cell_type": "code",
   "execution_count": 52,
   "metadata": {},
   "outputs": [
    {
     "name": "stderr",
     "output_type": "stream",
     "text": [
      "/usr/local/lib/python3.6/dist-packages/matplotlib/axes/_axes.py:6462: UserWarning: The 'normed' kwarg is deprecated, and has been replaced by the 'density' kwarg.\n",
      "  warnings.warn(\"The 'normed' kwarg is deprecated, and has been \"\n"
     ]
    },
    {
     "data": {
      "text/plain": [
       "<matplotlib.axes._subplots.AxesSubplot at 0x7ff6f45b1668>"
      ]
     },
     "execution_count": 52,
     "metadata": {},
     "output_type": "execute_result"
    },
    {
     "data": {
      "image/png": "[encoded data removed]",
      "text/plain": [
       "<Figure size 432x288 with 1 Axes>"
      ]
     },
     "metadata": {},
     "output_type": "display_data"
    },
    {
     "name": "stdout",
     "output_type": "stream",
     "text": [
      "time: 4.47 s\n"
     ]
    }
   ],
   "source": [
    "sns.distplot(time_list_month)"
   ]
  },
  {
   "cell_type": "code",
   "execution_count": null,
   "metadata": {},
   "outputs": [],
   "source": []
  }
 ],
 "metadata": {
  "kernelspec": {
   "display_name": "Python 3",
   "language": "python",
   "name": "python3"
  },
  "language_info": {
   "codemirror_mode": {
    "name": "ipython",
    "version": 3
   },
   "file_extension": ".py",
   "mimetype": "text/x-python",
   "name": "python",
   "nbconvert_exporter": "python",
   "pygments_lexer": "ipython3",
   "version": "3.6.7"
  }
 },
 "nbformat": 4,
 "nbformat_minor": 2
}
